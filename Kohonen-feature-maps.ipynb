{
 "cells": [
  {
   "cell_type": "code",
   "execution_count": 498,
   "metadata": {
    "collapsed": true
   },
   "outputs": [],
   "source": [
    "import pandas as pd\n",
    "import numpy as np\n",
    "import random"
   ]
  },
  {
   "cell_type": "markdown",
   "metadata": {},
   "source": [
    "# Function definitions"
   ]
  },
  {
   "cell_type": "code",
   "execution_count": 499,
   "metadata": {
    "collapsed": true
   },
   "outputs": [],
   "source": [
    "# For a specified array of centers and an array with measurements of a numerical variable,\n",
    "# returns the sum of the distance of each measurement to the closest center.\n",
    "def total_distance_to_centers(centers, data_attribute):\n",
    "    d = 0\n",
    "    for x in data_attribute:\n",
    "        if not np.isnan(x):\n",
    "            d = d + np.min(np.abs(centers - x))\n",
    "    return d"
   ]
  },
  {
   "cell_type": "code",
   "execution_count": 553,
   "metadata": {},
   "outputs": [],
   "source": [
    "data_attribute = data[attribute]\n",
    "\n",
    "def compute_kohonen_centers(n_centers, data_attribute_input, max_iterations=1000000, dataset_rounds=15):\n",
    "    \n",
    "    debug = False\n",
    "    \n",
    "    # Get data\n",
    "    data_attribute_input.dropna(inplace=True)\n",
    "    data_attribute = data_attribute_input.as_matrix()\n",
    "    \n",
    "    # Initialize equidistant centerns\n",
    "    step = (data_attribute.max() - data_attribute.min()) / (n_centers-1)\n",
    "    centers = data_attribute.min() + step * np.arange(n_centers)\n",
    "    \n",
    "    # Compute sum of distances of each point to the closest center\n",
    "    D = total_distance_to_centers(centers, data_attribute)\n",
    "    \n",
    "    #print(\"Initial equidistant centers: \", centers)\n",
    "    #print(\"Initial distance to centers: \", D)\n",
    "    \n",
    "    D_previous = D + 1.0\n",
    "    dataset_round = 0\n",
    "    it = 0\n",
    "    eta = 0.6\n",
    "    pertubation_precision = 5.0\n",
    "    \n",
    "    while  dataset_round <  dataset_rounds and it < max_iterations:\n",
    "        data_attribute = data_attribute_input.as_matrix()\n",
    "        \n",
    "        while len(data_attribute) > 0 and np.abs(D_previous - D) > 0 and it < max_iterations:\n",
    "\n",
    "\n",
    "            # Randomly pop a value of data_attribute\n",
    "            random_index = random.randrange(len(data_attribute))\n",
    "            random_x = data_attribute[random_index]\n",
    "            data_attribute = np.delete(data_attribute, random_index)\n",
    "\n",
    "            # Get closest center and it's position\n",
    "            closest_center_index = np.argmin(np.abs(centers - random_x))\n",
    "            closest_center = centers[closest_center_index]\n",
    "\n",
    "            # Small perturbation to prevent iterations without updates, in case random_x is equal to closest_center\n",
    "            random_float = np.random.rand()\n",
    "            while random_float == 0: random_float = np.random.rand() # need non-zero float in (0,1)\n",
    "            # make sure pertubation goes to zero by multiplying by eta\n",
    "\n",
    "            if len(data_attribute > 0):\n",
    "                perturbation = 10**(-pertubation_precision) * eta * data_attribute.std() * random_float\n",
    "            else:\n",
    "                # Prevent running data_attribute.std() when data_attribute is empty\n",
    "                perturbation = 10**(-pertubation_precision) * eta * perturbation * random_float\n",
    "\n",
    "            # Update rule for the centers\n",
    "            centers[closest_center_index] = closest_center + eta * (random_x - closest_center + perturbation)\n",
    "\n",
    "            if debug:\n",
    "                print(\"\\nIteration: \", it)\n",
    "\n",
    "                print(\"random_index\", random_index)\n",
    "                print(\"random_x\", random_x)\n",
    "\n",
    "                print(\"closest_center_index\", closest_center_index)\n",
    "                print(\"closest_center\", closest_center)\n",
    "\n",
    "                print(\"centers: \", centers)\n",
    "\n",
    "            eta = 0.99999 * eta\n",
    "            D_previous = D\n",
    "            D = total_distance_to_centers(centers, data_attribute)\n",
    "            it = it + 1\n",
    "        \n",
    "        dataset_round = dataset_round + 1\n",
    "    \n",
    "    # Atenuate perturbations in the centers\n",
    "    for i in np.arange(n_centers): centers[i] =  round(centers[i], int(pertubation_precision))\n",
    "\n",
    "    if debug:\n",
    "        print(\"Final centers: \", centers)\n",
    "        print(\"Final distance to centers: \", D)\n",
    "        print(\"Dataset rounds: \", dataset_round)\n",
    "        print(\"Iterations: \", it)\n",
    "    \n",
    "    return centers"
   ]
  },
  {
   "cell_type": "markdown",
   "metadata": {},
   "source": [
    "# Do stuff"
   ]
  },
  {
   "cell_type": "code",
   "execution_count": 564,
   "metadata": {
    "collapsed": true
   },
   "outputs": [],
   "source": [
    "# Read dataset as a pandas dataframe. Columns to be indexed by attribute name\n",
    "dataset = \"hd\"\n",
    "file_path = \"/home/cecilia/uncertainty/revision/\" + dataset + \"/hd.data\"\n",
    "header_path = \"/home/cecilia/uncertainty/revision/\" + dataset + \"/hd.header\"\n",
    "\n",
    "# Read data\n",
    "header = pd.read_csv(header_path, sep=\"|\", names=[\"attribute\", \"type\", \"values\"])\n",
    "\n",
    "target_name = header[header.type == \"target\"].attribute.as_matrix()[0]\n",
    "data = pd.read_csv(file_path, sep=\"|\", header=None, names=header.attribute.as_matrix())\n",
    "\n",
    "# Remove target column\n",
    "#target = data[target_name]\n",
    "#data.drop(target_name, axis=1, inplace=True)"
   ]
  },
  {
   "cell_type": "code",
   "execution_count": 562,
   "metadata": {
    "scrolled": false
   },
   "outputs": [
    {
     "name": "stdout",
     "output_type": "stream",
     "text": [
      "\n",
      "Attribute:  age\n",
      "Number of centers:  3\n",
      "\n",
      "Attribute:  trestbps\n",
      "Number of centers:  3\n",
      "\n",
      "Attribute:  chol\n",
      "Number of centers:  3\n",
      "\n",
      "Attribute:  fbs\n",
      "Number of centers:  2\n",
      "\n",
      "Attribute:  thalach\n",
      "Number of centers:  3\n",
      "\n",
      "Attribute:  oldpeak\n",
      "Number of centers:  3\n",
      "\n",
      "Attribute:  slope\n",
      "Number of centers:  3\n",
      "\n",
      "Attribute:  ca\n",
      "Number of centers:  3\n"
     ]
    }
   ],
   "source": [
    "n_cols = data.shape[1]\n",
    "n_centers = 3\n",
    "\n",
    "centers = {}\n",
    "\n",
    "for attribute in data:    \n",
    "    if (header[header.attribute == attribute].type == \"floating\").as_matrix()[0]:\n",
    "        print(\"\")\n",
    "        print(\"Attribute: \", attribute)\n",
    "        \n",
    "        n_centers_to_use = min(len(np.unique(data[attribute].as_matrix())), n_centers)\n",
    "        print(\"Number of centers: \", n_centers_to_use)\n",
    "        \n",
    "        centers[attribute] = compute_kohonen_centers(n_centers_to_use, data[attribute], dataset_rounds=2);"
   ]
  },
  {
   "cell_type": "code",
   "execution_count": 563,
   "metadata": {
    "scrolled": true
   },
   "outputs": [
    {
     "data": {
      "text/plain": [
       "{'age': array([ 41.23564,  58.00499,  66.94293]),\n",
       " 'ca': array([ 0.     ,  1.25978,  3.     ]),\n",
       " 'chol': array([ 186.22735,  295.61832,  504.27244]),\n",
       " 'fbs': array([ 0.,  1.]),\n",
       " 'oldpeak': array([ 0.36059,  1.20578,  3.75686]),\n",
       " 'slope': array([ 1.,  2.,  3.]),\n",
       " 'thalach': array([ 105.67928,  129.40093,  180.45974]),\n",
       " 'trestbps': array([ 114.92883,  130.88244,  177.12998])}"
      ]
     },
     "execution_count": 563,
     "metadata": {},
     "output_type": "execute_result"
    }
   ],
   "source": [
    "centers"
   ]
  },
  {
   "cell_type": "code",
   "execution_count": null,
   "metadata": {
    "collapsed": true
   },
   "outputs": [],
   "source": []
  }
 ],
 "metadata": {
  "kernelspec": {
   "display_name": "Python 3",
   "language": "python",
   "name": "python3"
  },
  "language_info": {
   "codemirror_mode": {
    "name": "ipython",
    "version": 3
   },
   "file_extension": ".py",
   "mimetype": "text/x-python",
   "name": "python",
   "nbconvert_exporter": "python",
   "pygments_lexer": "ipython3",
   "version": "3.6.1"
  }
 },
 "nbformat": 4,
 "nbformat_minor": 2
}
